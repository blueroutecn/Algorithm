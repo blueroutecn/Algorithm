{
 "cells": [
  {
   "cell_type": "code",
   "execution_count": 86,
   "metadata": {},
   "outputs": [],
   "source": [
    "import numpy as np\n",
    "\n",
    "# 추후 Heap 구현 하고 그거로 sorting 해보기\n",
    "def getarr(n):\n",
    "    a = np.array(np.arange(0,n))\n",
    "    np.random.shuffle(a)\n",
    "    return a\n",
    "def partition(A,p,q):\n",
    "    item = A[q]\n",
    "    i = p\n",
    "    j = p\n",
    "    while i<=q-1 and j<=q-1:\n",
    "        if A[j] > item:\n",
    "            j = j + 1\n",
    "        else:            \n",
    "            tmp = A[i]\n",
    "            A[i] = A[j]\n",
    "            A[j] = tmp\n",
    "            i = i + 1\n",
    "            j = j + 1\n",
    "    tmp = A[i]\n",
    "    A[i] = A[q]\n",
    "    A[q] = tmp\n",
    "    \n",
    "    return i\n",
    "def quicksort(A,p,q):\n",
    "    \n",
    "    if p<q:\n",
    "        r = partition(A,p,q)\n",
    "        quicksort(A,p,r-1)\n",
    "        quicksort(A,r+1,q)\n",
    "    \n",
    "def Select(A,p,r,i):\n",
    "    \"\"\"\n",
    "    1. partition \n",
    "    2. i 가 있는 partition을 다시 selection 알고리즘\n",
    "    3. return이 다 있어야 함, 나중에 타고 올라와야 해서\n",
    "    4. 중복 배열도 됨. partition에서 작거나 같은 수는 왼쪽으로 분류됨\n",
    "    5. 복잡도는 1:n-1로 나뉠 경우 최대 n square\n",
    "    6. 항상 나뉘는 비율을 보장하는 알고리즘의 경우에는 linear 시간 복잡도를 가짐\n",
    "    7. linear selection 구현 하기\n",
    "    \"\"\"\n",
    "    q = partition(A,p,r)    \n",
    "    k = q - p\n",
    "    #print(A,p,q,r,k,i)\n",
    "    if k<i:\n",
    "        return Select(A,q+1,r,i-k-1)\n",
    "    elif k>i:\n",
    "        return Select(A,p,q-1,i)\n",
    "    elif k == i:\n",
    "        return A[p+i]    "
   ]
  },
  {
   "cell_type": "code",
   "execution_count": 93,
   "metadata": {},
   "outputs": [
    {
     "name": "stdout",
     "output_type": "stream",
     "text": [
      "7\n"
     ]
    }
   ],
   "source": [
    "A = np.array([7,5,6,3])\n",
    "N = 100\n",
    "A =  getarr(N)\n",
    "A = np.array([6,5,7,7,1])\n",
    "tmp = Select(A,0,4,4)\n",
    "print(tmp)"
   ]
  },
  {
   "cell_type": "code",
   "execution_count": null,
   "metadata": {
    "collapsed": true
   },
   "outputs": [],
   "source": []
  }
 ],
 "metadata": {
  "kernelspec": {
   "display_name": "Python 3",
   "language": "python",
   "name": "python3"
  },
  "language_info": {
   "codemirror_mode": {
    "name": "ipython",
    "version": 3
   },
   "file_extension": ".py",
   "mimetype": "text/x-python",
   "name": "python",
   "nbconvert_exporter": "python",
   "pygments_lexer": "ipython3",
   "version": "3.6.3"
  }
 },
 "nbformat": 4,
 "nbformat_minor": 2
}

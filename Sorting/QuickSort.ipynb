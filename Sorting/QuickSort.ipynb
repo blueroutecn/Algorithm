{
 "cells": [
  {
   "cell_type": "code",
   "execution_count": 5,
   "metadata": {
    "collapsed": true
   },
   "outputs": [],
   "source": [
    "import numpy as np\n",
    "\n",
    "def getarr(n):\n",
    "    a = np.array(np.arange(0,n))\n",
    "    np.random.shuffle(a)\n",
    "    return a\n",
    "\n",
    "def partition(A,p,r):\n",
    "    i = p - 1\n",
    "    j = p\n",
    "    item = A[r]\n",
    "    for j in range(p,r):  # j from p to r-1\n",
    "        if A[j] < item:\n",
    "            i = i + 1\n",
    "            tmp = A[i]\n",
    "            A[i] = A[j]\n",
    "            A[j] = tmp           \n",
    "    A[j+1] = A[i+1]\n",
    "    A[i+1] = item\n",
    "    return i+1\n",
    "def quicksort(A,p,r):    \n",
    "    if p<r:\n",
    "        q = partition(A,p,r)\n",
    "        quicksort(A,p,q-1)\n",
    "        quicksort(A,q+1,r)"
   ]
  },
  {
   "cell_type": "code",
   "execution_count": 10,
   "metadata": {},
   "outputs": [
    {
     "name": "stdout",
     "output_type": "stream",
     "text": [
      "[33 87 63 74  5 24  8 79 85 11  9 59 51 27 60 44 66 14 23 82 77  4 34 40 97\n",
      " 84 41 31 43  2  1 38 32  7 91 47 83 12 89 22 93 46 62 92 55 20 17 30 88 73\n",
      " 35 42 95  6 53 48 57 13  3 37 72 96 68 15 75 86 78 67 94 61 99 76 16 71 52\n",
      " 26 64 36  0 90 29 81 39 80 70 10 56 18 50 49 54 19 69 28 98 45 25 65 58 21]\n",
      "[ 0  1  2  3  4  5  6  7  8  9 10 11 12 13 14 15 16 17 18 19 20 21 22 23 24\n",
      " 25 26 27 28 29 30 31 32 33 34 35 36 37 38 39 40 41 42 43 44 45 46 47 48 49\n",
      " 50 51 52 53 54 55 56 57 58 59 60 61 62 63 64 65 66 67 68 69 70 71 72 73 74\n",
      " 75 76 77 78 79 80 81 82 83 84 85 86 87 88 89 90 91 92 93 94 95 96 97 98 99]\n",
      "True\n"
     ]
    }
   ],
   "source": [
    "N = 100\n",
    "A =  getarr(N)\n",
    "#A = np.array([7, 3, 0, 9, 6, 8, 4, 5, 1, 2])\n",
    "print(A)\n",
    "quicksort(A,0,N-1)\n",
    "print(A)\n",
    "print(np.sum(np.diff(A)) == (N-1))"
   ]
  }
 ],
 "metadata": {
  "kernelspec": {
   "display_name": "Python 3",
   "language": "python",
   "name": "python3"
  },
  "language_info": {
   "codemirror_mode": {
    "name": "ipython",
    "version": 3
   },
   "file_extension": ".py",
   "mimetype": "text/x-python",
   "name": "python",
   "nbconvert_exporter": "python",
   "pygments_lexer": "ipython3",
   "version": "3.6.3"
  }
 },
 "nbformat": 4,
 "nbformat_minor": 2
}

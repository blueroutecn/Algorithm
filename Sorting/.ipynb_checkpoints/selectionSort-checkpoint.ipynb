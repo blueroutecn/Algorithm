{
 "cells": [
  {
   "cell_type": "code",
   "execution_count": 13,
   "metadata": {
    "collapsed": true
   },
   "outputs": [],
   "source": [
    "import numpy as np\n",
    "\n",
    "def getarr(n):\n",
    "    a = np.array(np.arange(0,n))\n",
    "    np.random.shuffle(a)\n",
    "    return a\n",
    "\n",
    "def selectionSort(A):\n",
    "    n = len(A)\n",
    "    for i in range(n-1,-1,-1):        \n",
    "        mxidx = 0\n",
    "        for j in range(0,i+1):            \n",
    "            if A[mxidx] < A[j]:\n",
    "                mxidx = j                \n",
    "        tmp = A[i]\n",
    "        A[i] = A[mxidx]\n",
    "        A[mxidx] = tmp\n",
    "        "
   ]
  },
  {
   "cell_type": "code",
   "execution_count": 16,
   "metadata": {},
   "outputs": [
    {
     "name": "stdout",
     "output_type": "stream",
     "text": [
      "True\n"
     ]
    }
   ],
   "source": [
    "N = 1000\n",
    "A =  getarr(N)\n",
    "#A = np.array([7, 3, 0, 9, 6, 8, 4, 5, 1, 2])\n",
    "#print(A)\n",
    "selectionSort(A)\n",
    "#print(A)\n",
    "print(np.sum(np.diff(A)) == (N-1))"
   ]
  },
  {
   "cell_type": "code",
   "execution_count": null,
   "metadata": {
    "collapsed": true
   },
   "outputs": [],
   "source": []
  }
 ],
 "metadata": {
  "kernelspec": {
   "display_name": "Python 3",
   "language": "python",
   "name": "python3"
  },
  "language_info": {
   "codemirror_mode": {
    "name": "ipython",
    "version": 3
   },
   "file_extension": ".py",
   "mimetype": "text/x-python",
   "name": "python",
   "nbconvert_exporter": "python",
   "pygments_lexer": "ipython3",
   "version": "3.6.3"
  }
 },
 "nbformat": 4,
 "nbformat_minor": 2
}

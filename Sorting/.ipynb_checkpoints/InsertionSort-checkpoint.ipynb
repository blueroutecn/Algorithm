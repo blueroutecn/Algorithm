{
 "cells": [
  {
   "cell_type": "code",
   "execution_count": 54,
   "metadata": {},
   "outputs": [],
   "source": [
    "import numpy as np\n",
    "\n",
    "def getarr(n):\n",
    "    a = np.array(np.arange(0,n))\n",
    "    np.random.shuffle(a)\n",
    "    return a\n",
    "\n",
    "\"\"\"\n",
    "def insertionSort(A):\n",
    "    #A[1...k-1]까지 sort 되어 있고, A[k]를 insertion\n",
    "    n = len(A)\n",
    "    for i in range(n):\n",
    "        #print(A)\n",
    "        for j in range(i):\n",
    "            if A[i] < A[j]:\n",
    "                print(i,j)\n",
    "                if j-1<0:\n",
    "                    tmp = A[0:i]\n",
    "                    A[0] = A[i]\n",
    "                    A[1:i+1] = tmp\n",
    "                    print(A,tmp)\n",
    "                else:\n",
    "                    tmp = A[j:i]\n",
    "                    A[j] = A[i]\n",
    "                    A[j+1:i+1] = tmp\n",
    "\"\"\"\n",
    "def insertionSort(A):\n",
    "    n = len(A)\n",
    "    for i in range(1,n):\n",
    "        loc = i-1\n",
    "        newitem = A[i]\n",
    "        while loc>=0 and newitem<A[loc]:\n",
    "            A[loc+1] = A[loc]\n",
    "            loc = loc -1\n",
    "\n",
    "        A[loc+1] = newitem\n",
    "        "
   ]
  },
  {
   "cell_type": "code",
   "execution_count": 60,
   "metadata": {},
   "outputs": [
    {
     "name": "stdout",
     "output_type": "stream",
     "text": [
      "[2687  464 6549 ..., 3643 7426 7083]\n",
      "[   0    1    2 ..., 9997 9998 9999]\n",
      "True\n"
     ]
    }
   ],
   "source": [
    "N = 10000\n",
    "A =  getarr(N)\n",
    "print(A)\n",
    "#A = np.array([7, 3, 0, 9, 6, 8, 4, 5, 1, 2])\n",
    "insertionSort(A)\n",
    "print(A)\n",
    "print(np.sum(np.diff(A)) == (N-1))"
   ]
  },
  {
   "cell_type": "code",
   "execution_count": null,
   "metadata": {
    "collapsed": true
   },
   "outputs": [],
   "source": []
  }
 ],
 "metadata": {
  "kernelspec": {
   "display_name": "Python 3",
   "language": "python",
   "name": "python3"
  },
  "language_info": {
   "codemirror_mode": {
    "name": "ipython",
    "version": 3
   },
   "file_extension": ".py",
   "mimetype": "text/x-python",
   "name": "python",
   "nbconvert_exporter": "python",
   "pygments_lexer": "ipython3",
   "version": "3.6.3"
  }
 },
 "nbformat": 4,
 "nbformat_minor": 2
}

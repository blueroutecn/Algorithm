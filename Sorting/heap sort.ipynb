{
 "cells": [
  {
   "cell_type": "code",
   "execution_count": 97,
   "metadata": {
    "collapsed": true
   },
   "outputs": [],
   "source": [
    "import numpy as np\n",
    "\n",
    "# 추후 Heap 구현 하고 그거로 sorting 해보기\n",
    "def getarr(n):\n",
    "    a = np.array(np.arange(0,n))\n",
    "    np.random.shuffle(a)\n",
    "    return a\n",
    "def heapify(A,k,n):\n",
    "    idx1 = (k+1)*2-1\n",
    "    idx2 = (k+1)*2\n",
    "    if idx2 <= n:\n",
    "        if A[idx1]<=A[idx2]:\n",
    "            left = idx1\n",
    "        else:\n",
    "            left = idx2\n",
    "    elif idx1 <= n:\n",
    "        left = idx1\n",
    "    else:\n",
    "        return\n",
    "    if A[left] < A[k]:        \n",
    "        tmp = A[k]\n",
    "        A[k] = A[left]\n",
    "        A[left] = tmp        \n",
    "        heapify(A,left,n)\n",
    "def buildheap(A,n):\n",
    "    lastP = int(n/2)+1\n",
    "    for i in range(lastP,-1,-1):      \n",
    "        heapify(A,i,n)\n",
    "    return A\n",
    "def heapsort(A):\n",
    "    n = len(A)\n",
    "    B = np.empty((n))\n",
    "    A = buildheap(A,n-1)        \n",
    "    for i in range(n-1,0,-1):\n",
    "        tmp = A[0]\n",
    "        A[0] = A[i]\n",
    "        A[i] = tmp\n",
    "        heapify(A,0,i-1)        \n",
    "    return A"
   ]
  },
  {
   "cell_type": "code",
   "execution_count": 104,
   "metadata": {},
   "outputs": [
    {
     "name": "stdout",
     "output_type": "stream",
     "text": [
      "[0]\n",
      "True\n"
     ]
    }
   ],
   "source": [
    "N = 1\n",
    "A =  getarr(N)\n",
    "heapsort(A)\n",
    "print(A)\n",
    "print(-np.sum(np.diff(A)) == (N-1))"
   ]
  },
  {
   "cell_type": "code",
   "execution_count": null,
   "metadata": {
    "collapsed": true
   },
   "outputs": [],
   "source": []
  }
 ],
 "metadata": {
  "kernelspec": {
   "display_name": "Python 3",
   "language": "python",
   "name": "python3"
  },
  "language_info": {
   "codemirror_mode": {
    "name": "ipython",
    "version": 3
   },
   "file_extension": ".py",
   "mimetype": "text/x-python",
   "name": "python",
   "nbconvert_exporter": "python",
   "pygments_lexer": "ipython3",
   "version": "3.6.3"
  }
 },
 "nbformat": 4,
 "nbformat_minor": 2
}

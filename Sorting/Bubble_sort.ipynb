{
 "cells": [
  {
   "cell_type": "code",
   "execution_count": 19,
   "metadata": {
    "collapsed": true
   },
   "outputs": [],
   "source": [
    "import numpy as np\n",
    "\n",
    "def getarr(n):\n",
    "    a = np.array(np.arange(0,n))\n",
    "    np.random.shuffle(a)\n",
    "    return a\n",
    "def Bubble(A,k,issort):\n",
    "    # max value at A[k]\n",
    "    # sort A[1...k]\n",
    "    for i in range(0,k):\n",
    "        if A[i] > A[i+1]:\n",
    "            tmp = A[i+1]\n",
    "            A[i+1] = A[i]\n",
    "            A[i] = tmp\n",
    "            issort = True\n",
    "    return issort\n",
    "def BubbleSort(A,n):\n",
    "    # repeat from n-1 to 0    \n",
    "    for i in range(n-1,-1,-1):        \n",
    "        issort = False\n",
    "        issort = Bubble(A,i,issort)\n",
    "        if not issort:\n",
    "            return A\n",
    "    return A\n",
    "# python 어떤 값이 넘어가고 어떤 값이 함수에서 레퍼런스 카피가 안되는거지 ? \n",
    "# 보통은 python 문제에서 array 쓰는지 numpy 쓰는지 확인\n"
   ]
  },
  {
   "cell_type": "code",
   "execution_count": 28,
   "metadata": {},
   "outputs": [
    {
     "name": "stdout",
     "output_type": "stream",
     "text": [
      "[0]\n",
      "True\n"
     ]
    }
   ],
   "source": [
    "N = 1\n",
    "A =  getarr(N)\n",
    "#print(A)\n",
    "A = BubbleSort(A,N)\n",
    "print(A)\n",
    "print(np.sum(np.diff(A)) == (N-1))"
   ]
  },
  {
   "cell_type": "code",
   "execution_count": null,
   "metadata": {
    "collapsed": true
   },
   "outputs": [],
   "source": []
  }
 ],
 "metadata": {
  "kernelspec": {
   "display_name": "Python 3",
   "language": "python",
   "name": "python3"
  },
  "language_info": {
   "codemirror_mode": {
    "name": "ipython",
    "version": 3
   },
   "file_extension": ".py",
   "mimetype": "text/x-python",
   "name": "python",
   "nbconvert_exporter": "python",
   "pygments_lexer": "ipython3",
   "version": "3.6.3"
  }
 },
 "nbformat": 4,
 "nbformat_minor": 2
}

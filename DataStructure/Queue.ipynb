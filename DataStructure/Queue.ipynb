{
 "cells": [
  {
   "cell_type": "code",
   "execution_count": 16,
   "metadata": {
    "collapsed": true
   },
   "outputs": [],
   "source": [
    "class stack:\n",
    "    def __init__(self):\n",
    "        self.stack_item = []    \n",
    "        \n",
    "    def push(self,item):\n",
    "        self.stack_item.append(item)\n",
    "        \n",
    "    def pop(self):\n",
    "        if len(self.stack_item) > 0:\n",
    "            item = self.stack_item[-1]\n",
    "            del self.stack_item[-1]\n",
    "            return item\n",
    "        else:\n",
    "            return False\n",
    "    def isempty(self):\n",
    "        return not self.stack_item\n",
    "    def reset(self):\n",
    "        self.stack_item = []\n",
    "class queue:\n",
    "    def __init__(self):\n",
    "        self.queue_item = []\n",
    "    def enqueue(self,item):\n",
    "        self.queue_item.append(item)\n",
    "    def dequeue(self):\n",
    "        if len(self.queue_item) > 0:\n",
    "            item = self.queue_item[0]\n",
    "            del self.queue_item[0]\n",
    "            return item\n",
    "        else:\n",
    "            return False        \n",
    "    def isempty(self):\n",
    "        return not self.queue_item\n",
    "    "
   ]
  },
  {
   "cell_type": "code",
   "execution_count": 26,
   "metadata": {
    "collapsed": true
   },
   "outputs": [],
   "source": [
    "class queue2:\n",
    "    def __init__(self):\n",
    "        self.s = stack()\n",
    "        self.srev = stack()\n",
    "    def enqueue(self,item):\n",
    "        self.s.push(item)\n",
    "    def dequeue(self):\n",
    "        while not self.s.isempty():\n",
    "            self.srev.push(self.s.pop())\n",
    "        item = self.srev.pop()\n",
    "        while not self.srev.isempty():\n",
    "            self.s.push(self.srev.pop())\n",
    "        return item\n",
    "    def isempty(self):\n",
    "        return self.s.isempty()\n",
    "    def reset(self):\n",
    "        self.s.reset()\n",
    "        self.srev.reset()"
   ]
  },
  {
   "cell_type": "code",
   "execution_count": 27,
   "metadata": {},
   "outputs": [
    {
     "name": "stdout",
     "output_type": "stream",
     "text": [
      "True\n",
      "False\n"
     ]
    }
   ],
   "source": [
    "sss = stack()\n",
    "print(sss.isempty())\n",
    "sss.push(1)\n",
    "print(sss.isempty())"
   ]
  },
  {
   "cell_type": "code",
   "execution_count": 28,
   "metadata": {},
   "outputs": [
    {
     "name": "stdout",
     "output_type": "stream",
     "text": [
      "1\n",
      "False\n",
      "5\n",
      "s\n",
      "True\n"
     ]
    }
   ],
   "source": [
    "q = queue2()\n",
    "q.enqueue(1)\n",
    "q.enqueue(5)\n",
    "q.enqueue('s')\n",
    "print(q.dequeue())\n",
    "print(q.isempty())\n",
    "print(q.dequeue())\n",
    "print(q.dequeue())\n",
    "print(q.isempty())"
   ]
  },
  {
   "cell_type": "code",
   "execution_count": 8,
   "metadata": {},
   "outputs": [
    {
     "name": "stdout",
     "output_type": "stream",
     "text": [
      "1\n",
      "5\n",
      "s\n"
     ]
    }
   ],
   "source": [
    "q = queue()\n",
    "q.enqueue(1)\n",
    "q.enqueue(5)\n",
    "q.enqueue('s')\n",
    "print(q.dequeue())\n",
    "print(q.dequeue())\n",
    "print(q.dequeue())\n"
   ]
  }
 ],
 "metadata": {
  "kernelspec": {
   "display_name": "Python 3",
   "language": "python",
   "name": "python3"
  },
  "language_info": {
   "codemirror_mode": {
    "name": "ipython",
    "version": 3
   },
   "file_extension": ".py",
   "mimetype": "text/x-python",
   "name": "python",
   "nbconvert_exporter": "python",
   "pygments_lexer": "ipython3",
   "version": "3.6.3"
  }
 },
 "nbformat": 4,
 "nbformat_minor": 2
}
